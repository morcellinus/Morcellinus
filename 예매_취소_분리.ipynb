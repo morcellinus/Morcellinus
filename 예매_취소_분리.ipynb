{
  "nbformat": 4,
  "nbformat_minor": 0,
  "metadata": {
    "colab": {
      "name": "예매/취소_분리.ipynb",
      "provenance": [],
      "mount_file_id": "1-UX0jHVJfOiGFtkPgPqwGxPTajmHfqTN",
      "authorship_tag": "ABX9TyOPygBTLAGvX0qdUVguivgh",
      "include_colab_link": true
    },
    "kernelspec": {
      "name": "python3",
      "display_name": "Python 3"
    },
    "language_info": {
      "name": "python"
    }
  },
  "cells": [
    {
      "cell_type": "markdown",
      "metadata": {
        "id": "view-in-github",
        "colab_type": "text"
      },
      "source": [
        "<a href=\"https://colab.research.google.com/github/morcellinus/Morcellinus/blob/main/%EC%98%88%EB%A7%A4_%EC%B7%A8%EC%86%8C_%EB%B6%84%EB%A6%AC.ipynb\" target=\"_parent\"><img src=\"https://colab.research.google.com/assets/colab-badge.svg\" alt=\"Open In Colab\"/></a>"
      ]
    },
    {
      "cell_type": "code",
      "metadata": {
        "id": "fm_EsdliYN6A"
      },
      "source": [
        "# 패키지 불러오기\n",
        "\n",
        "import pandas as pd\n",
        "import numpy as np"
      ],
      "execution_count": 1,
      "outputs": []
    },
    {
      "cell_type": "code",
      "metadata": {
        "colab": {
          "base_uri": "https://localhost:8080/"
        },
        "id": "uD4-czD5L1wn",
        "outputId": "d83aa3b5-3dd7-484b-8548-3e0244bd087f"
      },
      "source": [
        "# 마운트 된 드라이브에서 전체 데이터셋 불러오기\n",
        "\n",
        "full = pd.read_csv('/content/drive/Shareddrives/KOPIS/Dataset/Raw_Data_csv/full_test.csv')"
      ],
      "execution_count": 2,
      "outputs": [
        {
          "output_type": "stream",
          "text": [
            "/usr/local/lib/python3.7/dist-packages/IPython/core/interactiveshell.py:2718: DtypeWarning: Columns (28,37) have mixed types.Specify dtype option on import or set low_memory=False.\n",
            "  interactivity=interactivity, compiler=compiler, result=result)\n"
          ],
          "name": "stderr"
        }
      ]
    },
    {
      "cell_type": "code",
      "metadata": {
        "id": "9cng-BNSNphn"
      },
      "source": [
        "# 취소건 row와 취소된건의 예매건 row를 합쳐 cancel index 생성\n",
        "\n",
        "cancel_index = full[full['예매/취소구분'] == 2].index\n",
        "cancel_index2 = cancel_index -1\n",
        "cancel = cancel_index.append(cancel_index2)"
      ],
      "execution_count": 4,
      "outputs": []
    },
    {
      "cell_type": "code",
      "metadata": {
        "id": "WhcRUL91PbWx"
      },
      "source": [
        "# cancel index를 없애 취소 없이 예매만 한 건수 데이터 확보\n",
        "\n",
        "only_book = full.drop(index = cancel).reset_index(drop = False, inplace = False)\n",
        "only_book = only_book.drop(['index', 'Unnamed: 0'], axis = 1)"
      ],
      "execution_count": 8,
      "outputs": []
    },
    {
      "cell_type": "code",
      "metadata": {
        "id": "K2EJHnEwYg0P"
      },
      "source": [
        "# csv 형태로 파일 저장\n",
        "\n",
        "only_book.to_csv('/content/drive/Shareddrives/KOPIS/Dataset/Data_sampled/only_book.csv')"
      ],
      "execution_count": 14,
      "outputs": []
    },
    {
      "cell_type": "code",
      "metadata": {
        "id": "jtonVRZNYiuy"
      },
      "source": [
        "# 취소 건에 대한 데이터 파일 따로 생성\n",
        "\n",
        "only_cancel = full.loc[cancel_index,]\n",
        "only_cancel = only_cancel.drop('Unnamed: 0', axis = 1)"
      ],
      "execution_count": 15,
      "outputs": []
    },
    {
      "cell_type": "code",
      "metadata": {
        "id": "_t0TAUv9ZXOA"
      },
      "source": [
        "# csv 파일로 저장\n",
        "\n",
        "only_cancel.to_csv('/content/drive/Shareddrives/KOPIS/Dataset/Data_sampled/only_cancel.csv')"
      ],
      "execution_count": 19,
      "outputs": []
    }
  ]
}